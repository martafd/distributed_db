{
 "cells": [
  {
   "cell_type": "code",
   "execution_count": 16,
   "metadata": {},
   "outputs": [
    {
     "name": "stdout",
     "output_type": "stream",
     "text": [
      "('Accounts: ', [(1, 'Marta', 2000), (2, 'Marta', 2000)])\n",
      "('Fly Bookings: ', [(1, 'Marta', 'LRD 34M', 'Rome', 'Lviv', datetime.date(2018, 2, 4)), (2, 'Marta', 'LRD 34M', 'Rome', 'Lviv', datetime.date(2018, 2, 4))])\n",
      "('Hotel Bookings: ', [(1, 'Marta', 'Valery', datetime.date(2018, 2, 4), datetime.date(2017, 2, 17)), (2, 'Marta', 'Valery', datetime.date(2018, 2, 4), datetime.date(2017, 2, 17))])\n"
     ]
    }
   ],
   "source": [
    "import sys\n",
    "import psycopg2\n",
    "\n",
    "\n",
    "fly_connect = psycopg2.connect(dbname=\"fly\", user=\"martafd\", password=\"123qwe\")\n",
    "hotel_connect = psycopg2.connect(dbname=\"hotel\", user=\"martafd\", password=\"123qwe\")\n",
    "account_connect = psycopg2.connect(dbname=\"account\", user=\"martafd\", password=\"123qwe\")\n",
    "\n",
    "fly_cursor = fly_connect.cursor()\n",
    "hotel_cursor = hotel_connect.cursor()\n",
    "account_cursor = account_connect.cursor()\n",
    "\n",
    "def insert_tables(account_cursor, fly_cursor, hotel_cursor):\n",
    "    account_cursor.execute(\"\"\"insert into account (client, amount) values (%s,%s);\"\"\", ('Marta', 2000))\n",
    "    fly_cursor.execute(\"\"\"insert into fly_booking (client, fly_number, from_city, to_city, date) \n",
    "    values(%s,%s,%s,%s,%s);\"\"\", ('Marta', 'LRD 34M', 'Rome', 'Lviv', '04/02/2018'))\n",
    "    hotel_cursor.execute(\"\"\"insert into hotel_booking (client, hotel, arrival, departure) values(%s,%s,%s,%s);\"\"\",\n",
    "    ('Marta', 'Valery', '04/02/2018', '17/02/2017'))\n",
    "\n",
    "insert_tables(account_cursor, fly_cursor, hotel_cursor)\n",
    "\n",
    "def select_all(conn, table):\n",
    "    cursor = conn.cursor()\n",
    "    cursor.execute(\"SELECT * from {0};\".format(table))\n",
    "    conn.commit()\n",
    "    return cursor.fetchall()\n",
    "\n",
    "print('Accounts: ', select_all(account_connect, \"account\"))\n",
    "print('Fly Bookings: ', select_all(fly_connect, \"fly_booking\"))\n",
    "print('Hotel Bookings: ', select_all(hotel_connect, \"hotel_booking\"))"
   ]
  },
  {
   "cell_type": "code",
   "execution_count": 18,
   "metadata": {},
   "outputs": [
    {
     "name": "stdout",
     "output_type": "stream",
     "text": [
      "Error!! Booking was not done\n"
     ]
    }
   ],
   "source": [
    "fly_connect.tpc_begin(fly_connect.xid(100, 'transaction ID', 'connection 1'))\n",
    "hotel_connect.tpc_begin(hotel_connect.xid(100, 'transaction ID', 'connection 2'))\n",
    "account_connect.tpc_begin(account_connect.xid(100, 'transaction ID', 'connection 3'))\n",
    "\n",
    "try:\n",
    "    account_connect.cursor().execute(\"\"\"update account set amount=amount - {} WHERE id=1;\"\"\".format(100))\n",
    "    account_connect.tpc_prepare()\n",
    "    \n",
    "    fly_connect.cursor().execute(\"\"\"insert into fly_booking (client, fly_number, from_city, to_city, date) \n",
    "    values(%s,%s,%s,%s,%s);\"\"\", ('Dima', 'FY067', 'Lviv', 'Kyiv', '03/05/2018'))\n",
    "    fly_connect.tpc_prepare()\n",
    "\n",
    "    hotel_connect.cursor().execute(\"\"\"insert into hotel_booking (client, hotel, arrival, departure) \n",
    "    values(%s,%s,%s,%s);\"\"\", ('Dima', 'Figu', '03/05/2018', '15/05/2018'))\n",
    "    hotel_connect.tpc_prepare()\n",
    "\n",
    "    # 2 pc\n",
    "    fly_connect.tpc_commit()\n",
    "    account_connect.tpc_commit()\n",
    "    hotel_connect.tpc_commit()\n",
    "    \n",
    "except Exception:\n",
    "    print(\"Error!! Booking was not done\")\n",
    "    # rollback\n",
    "    fly_connect.tpc_rollback()\n",
    "    account_connect.tpc_rollback()\n",
    "    hotel_connect.tpc_rollback()\n",
    "    exit()\n",
    "else:\n",
    "    print(\"Booking was done good\")"
   ]
  }
 ],
 "metadata": {
  "kernelspec": {
   "display_name": "Python 2",
   "language": "python",
   "name": "python2"
  },
  "language_info": {
   "codemirror_mode": {
    "name": "ipython",
    "version": 2
   },
   "file_extension": ".py",
   "mimetype": "text/x-python",
   "name": "python",
   "nbconvert_exporter": "python",
   "pygments_lexer": "ipython2",
   "version": "2.7.12"
  }
 },
 "nbformat": 4,
 "nbformat_minor": 2
}
